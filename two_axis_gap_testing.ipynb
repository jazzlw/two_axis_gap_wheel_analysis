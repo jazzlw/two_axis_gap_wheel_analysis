{
 "cells": [
  {
   "cell_type": "code",
   "execution_count": null,
   "metadata": {},
   "outputs": [],
   "source": [
    "import pandas as pd\n",
    "import numpy as np\n",
    "import matplotlib.pyplot as plt\n",
    "import seaborn as sns\n",
    "import os\n",
    "from pathlib import Path\n",
    "import re\n",
    "\n",
    "pd.set_option('display.max_columns', None)\n"
   ]
  },
  {
   "cell_type": "code",
   "execution_count": null,
   "metadata": {},
   "outputs": [],
   "source": [
    "data_folder = Path(\"data/fly_1_14\")\n",
    "timestamps_file = list(data_folder.glob('*timestamps.csv'))[0]\n",
    "timestamps = pd.read_csv(timestamps_file)\n",
    "timestamps.columns = timestamps.columns.str.strip().str.replace(' ', '_')\n",
    "timestamps['time'] = pd.to_datetime(timestamps['timestamp'], unit='ns')\n",
    "timestamps.set_index('time', inplace=True)\n",
    "timestamps[::10]"
   ]
  },
  {
   "cell_type": "code",
   "execution_count": null,
   "metadata": {},
   "outputs": [],
   "source": [
    "time = pd.to_datetime('2023-07-11 18:13:25')\n",
    "idx  = timestamps.index.get_loc(time, method=\"nearest\")\n",
    "frame_id = timestamps.iloc[idx].frame_id"
   ]
  },
  {
   "cell_type": "code",
   "execution_count": null,
   "metadata": {},
   "outputs": [],
   "source": [
    "list(data_folder.glob('*'))"
   ]
  },
  {
   "cell_type": "code",
   "execution_count": null,
   "metadata": {},
   "outputs": [],
   "source": [
    "wheel_file = list(data_folder.glob('*tracker.csv'))[0]\n",
    "wheel_df = pd.read_csv(wheel_file, index_col=0)\n",
    "wheel_df.columns = wheel_df.columns.str.strip().str.replace(' ', '_')\n",
    "wheel_df.rename(\n",
    "            columns={\n",
    "                \"absolute_rotation_cam_0\": \"yaw\",\n",
    "                \"absolute_rotation_cam_1\": \"roll\",\n",
    "            },\n",
    "            inplace=True,\n",
    "        )\n",
    "df = wheel_df.filter(regex='roll|yaw').copy()\n",
    "# wheel_df.filter(regex='timestamp|position|sequence|heading')"
   ]
  },
  {
   "cell_type": "code",
   "execution_count": null,
   "metadata": {},
   "outputs": [],
   "source": [
    "df.yaw.plot()"
   ]
  },
  {
   "cell_type": "code",
   "execution_count": null,
   "metadata": {},
   "outputs": [],
   "source": [
    "df.loc[df['yaw'].diff().abs() > np.pi, 'yaw']  = np.nan\n",
    "df.iloc[1000:1500].yaw.plot()"
   ]
  },
  {
   "cell_type": "code",
   "execution_count": null,
   "metadata": {},
   "outputs": [],
   "source": [
    "data_folder = Path(\"data/rig2_experiment_13\")\n",
    "experiment_number = re.findall(r\"nt_(\\d+)\", str(data_folder))[0]\n",
    "experiment_number"
   ]
  },
  {
   "cell_type": "code",
   "execution_count": null,
   "metadata": {},
   "outputs": [],
   "source": [
    "wheel_df.filter(regex='timestamp|position|sequence|heading|ute_rotation_cam_[01]')\n",
    "wheel_df.filter(regex='heading|ute_rotation_cam_[01]').iloc[:500].plot()"
   ]
  },
  {
   "cell_type": "code",
   "execution_count": null,
   "metadata": {},
   "outputs": [],
   "source": [
    "wheel_df"
   ]
  },
  {
   "cell_type": "code",
   "execution_count": null,
   "metadata": {},
   "outputs": [],
   "source": []
  },
  {
   "cell_type": "code",
   "execution_count": null,
   "metadata": {},
   "outputs": [],
   "source": []
  },
  {
   "cell_type": "code",
   "execution_count": null,
   "metadata": {},
   "outputs": [],
   "source": [
    "\n",
    "wheel_df = pd.read_csv(wheel_file)\n",
    "wheel_df.columns = wheel_df.columns.str.strip().str.replace(\" \", \"_\")\n",
    "wheel_df = wheel_df.filter(regex=\"timestamp|absolute_rotation_cam_[01]\")\n",
    "wheel_df.rename(\n",
    "    columns={\"absolute_rotation_cam_0\": \"yaw\", \"absolute_rotation_cam_1\": \"roll\"},\n",
    "    inplace=True,\n",
    ")\n",
    "wheel_df[\"time\"] = (\n",
    "    pd.to_datetime(wheel_df[\"timestamp\"], unit=\"ns\")\n",
    "    .dt.tz_localize(\"UTC\")\n",
    "    .dt.tz_convert(\"US/Eastern\")\n",
    ")\n",
    "wheel_df.set_index(\"time\", inplace=True)\n",
    "wheel_df\n"
   ]
  },
  {
   "cell_type": "code",
   "execution_count": null,
   "metadata": {},
   "outputs": [],
   "source": [
    "import wheel_movie as wm\n",
    "from importlib import reload\n",
    "\n",
    "reload(wm)\n",
    "\n",
    "movie = wm.WheelMovie(\n",
    "    wheel_data_file=list(data_folder.glob(\"*tracker.csv\"))[0],\n",
    "    movie_file=list(data_folder.glob(\"*.avi\"))[0],\n",
    "    movie_timestamp_file=list(data_folder.glob(\"*timestamps.csv\"))[0],\n",
    "    fly_name = 'Fly 14',\n",
    "    plot_width = '30s',\n",
    "    output_path = data_folder,\n",
    "    output_filename = 'test',\n",
    "    total_frames = 500,\n",
    "    show_nth_frame=3,\n",
    "    fps= 20,\n",
    "    zero_pos_frac=0.65,\n",
    "    \n",
    ")\n",
    "\n",
    "movie.make_movie_paralell()"
   ]
  },
  {
   "cell_type": "code",
   "execution_count": null,
   "metadata": {},
   "outputs": [],
   "source": []
  }
 ],
 "metadata": {
  "kernelspec": {
   "display_name": "py38",
   "language": "python",
   "name": "python3"
  },
  "language_info": {
   "codemirror_mode": {
    "name": "ipython",
    "version": 3
   },
   "file_extension": ".py",
   "mimetype": "text/x-python",
   "name": "python",
   "nbconvert_exporter": "python",
   "pygments_lexer": "ipython3",
   "version": "3.8.12"
  },
  "vscode": {
   "interpreter": {
    "hash": "e340a0a01ab186b377b016c01aa7d5d1230eddf285ffed81230a024c78a4da64"
   }
  }
 },
 "nbformat": 4,
 "nbformat_minor": 2
}
