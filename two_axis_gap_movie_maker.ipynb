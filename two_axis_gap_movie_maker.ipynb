{
 "cells": [
  {
   "cell_type": "code",
   "execution_count": null,
   "metadata": {},
   "outputs": [],
   "source": [
    "import pandas as pd\n",
    "import numpy as np\n",
    "import matplotlib.pyplot as plt\n",
    "import seaborn as sns\n",
    "import os\n",
    "from pathlib import Path\n",
    "import re\n",
    "\n",
    "import wheel_movie as wm\n",
    "from importlib import reload\n",
    "\n",
    "\n",
    "pd.set_option(\"display.max_columns\", None)\n",
    "\n",
    "\n",
    "data_folder = Path(\"data\")"
   ]
  },
  {
   "cell_type": "code",
   "execution_count": null,
   "metadata": {},
   "outputs": [],
   "source": [
    "(data_folder / 'fly_1_14').name"
   ]
  },
  {
   "cell_type": "code",
   "execution_count": null,
   "metadata": {},
   "outputs": [],
   "source": [
    "def make_movie(data_folder):\n",
    "    experiment_number = re.findall(r\"nt_(\\d+)\", str(data_folder))[0]\n",
    "    movie = wm.WheelMovie(\n",
    "        wheel_data_file=list(data_folder.glob(\"*tracker.csv\"))[0],\n",
    "        movie_file=list(data_folder.glob(\"*.avi\"))[0],\n",
    "        movie_timestamp_file=list(data_folder.glob(\"*timestamps.csv\"))[0],\n",
    "        fly_name=f\"Fly {experiment_number}\",\n",
    "        plot_width=\"30s\",\n",
    "        output_path=data_folder / \"movies\",\n",
    "        output_filename=data_folder.name\n",
    "        # total_frames=1000,\n",
    "        show_nth_frame=3,\n",
    "        fps=20,\n",
    "        zero_pos_frac=0.65,\n",
    "        n_chunks=500,\n",
    "        n_jobs=6,\n",
    "        delete_chunks=False,\n",
    "    )\n",
    "    movie.make_movie_parallel()\n",
    "    return movie\n",
    "\n",
    "movie = make_movie()"
   ]
  },
  {
   "cell_type": "code",
   "execution_count": null,
   "metadata": {},
   "outputs": [],
   "source": []
  }
 ],
 "metadata": {
  "kernelspec": {
   "display_name": "py38",
   "language": "python",
   "name": "python3"
  },
  "language_info": {
   "codemirror_mode": {
    "name": "ipython",
    "version": 3
   },
   "file_extension": ".py",
   "mimetype": "text/x-python",
   "name": "python",
   "nbconvert_exporter": "python",
   "pygments_lexer": "ipython3",
   "version": "3.8.12"
  },
  "vscode": {
   "interpreter": {
    "hash": "e340a0a01ab186b377b016c01aa7d5d1230eddf285ffed81230a024c78a4da64"
   }
  }
 },
 "nbformat": 4,
 "nbformat_minor": 2
}
