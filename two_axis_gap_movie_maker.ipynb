{
 "cells": [
  {
   "cell_type": "code",
   "execution_count": null,
   "metadata": {},
   "outputs": [],
   "source": [
    "import pandas as pd\n",
    "import numpy as np\n",
    "import matplotlib.pyplot as plt\n",
    "import seaborn as sns\n",
    "import os\n",
    "from pathlib import Path\n",
    "import re\n",
    "import traceback\n",
    "\n",
    "import wheel_movie as wm\n",
    "from importlib import reload\n",
    "\n",
    "\n",
    "pd.set_option(\"display.max_columns\", None)\n",
    "\n",
    "\n",
    "data_folder = Path(\"data\")"
   ]
  },
  {
   "cell_type": "code",
   "execution_count": null,
   "metadata": {},
   "outputs": [],
   "source": [
    "(data_folder / 'fly_1_14').name"
   ]
  },
  {
   "cell_type": "code",
   "execution_count": null,
   "metadata": {},
   "outputs": [],
   "source": [
    "def make_movie(data_folder, re_run=False):\n",
    "    experiment_number = re.findall(r\"nt_(\\d+)\", str(data_folder))[0]\n",
    "    output_movie = data_folder / \"movies\" / f\"{data_folder.name}.mp4\"\n",
    "    if output_movie.exists() and not re_run:\n",
    "        print(f\"Movie already exists for {data_folder.name}\")\n",
    "        return\n",
    "    movie = wm.WheelMovie(\n",
    "        wheel_data_file=list(data_folder.glob(\"*tracker.csv\"))[0],\n",
    "        movie_file=list(data_folder.glob(\"*.avi\"))[0],\n",
    "        movie_timestamp_file=list(data_folder.glob(\"*timestamps.csv\"))[0],\n",
    "        fly_name=f\"Fly {experiment_number}\",\n",
    "        plot_width=\"30s\",\n",
    "        output_path=data_folder / \"movies\",\n",
    "        output_filename=data_folder.name,\n",
    "        # total_frames=1000,\n",
    "        show_nth_frame=3,\n",
    "        fps=20,\n",
    "        zero_pos_frac=0.65,\n",
    "        n_chunks=500,\n",
    "        n_jobs=6,\n",
    "        delete_chunks=False,\n",
    "    )\n",
    "    try:\n",
    "        movie.make_movie_parallel()\n",
    "    except:\n",
    "        print(f\"Failed to make movie for {data_folder.name}\")\n",
    "        print(traceback.format_exc())\n",
    "    finally:\n",
    "        return movie\n",
    "\n",
    "# movie = make_movie(data_folder / 'rig1_experiment_08')"
   ]
  },
  {
   "cell_type": "code",
   "execution_count": null,
   "metadata": {},
   "outputs": [],
   "source": [
    "\n"
   ]
  },
  {
   "cell_type": "code",
   "execution_count": null,
   "metadata": {},
   "outputs": [],
   "source": [
    "top_folders = [\n",
    "    data_folder / \"highest_priority\",\n",
    "    data_folder / \"splitgal4_shib\",\n",
    "    data_folder / \"2023_07_11\",\n",
    "    data_folder / \"2023_07_12\",\n",
    "]\n",
    "movie_list = []\n",
    "for folder in top_folders:\n",
    "    print(f\"starting {folder}\")\n",
    "    for subfolder in folder.iterdir():\n",
    "        print(f\"starting {subfolder}\")\n",
    "        try:\n",
    "            movie_list.append(make_movie(subfolder))\n",
    "        except :\n",
    "            print(f\"Failed to make movie for {subfolder.name}\")\n",
    "            print(traceback.format_exc())"
   ]
  },
  {
   "cell_type": "code",
   "execution_count": null,
   "metadata": {},
   "outputs": [],
   "source": []
  }
 ],
 "metadata": {
  "kernelspec": {
   "display_name": "py38",
   "language": "python",
   "name": "python3"
  },
  "language_info": {
   "codemirror_mode": {
    "name": "ipython",
    "version": 3
   },
   "file_extension": ".py",
   "mimetype": "text/x-python",
   "name": "python",
   "nbconvert_exporter": "python",
   "pygments_lexer": "ipython3",
   "version": "3.8.12"
  },
  "vscode": {
   "interpreter": {
    "hash": "e340a0a01ab186b377b016c01aa7d5d1230eddf285ffed81230a024c78a4da64"
   }
  }
 },
 "nbformat": 4,
 "nbformat_minor": 2
}
